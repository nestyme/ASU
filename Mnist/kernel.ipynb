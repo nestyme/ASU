{
 "cells": [
  {
   "cell_type": "markdown",
   "metadata": {
    "_cell_guid": "317c80f8-e67a-4d92-90e5-706753135a56",
    "_uuid": "8790dffd62696cac8f624f7482944e92e99531cf"
   },
   "source": [
    "# Digit Recognizer using xgboost"
   ]
  },
  {
   "cell_type": "markdown",
   "metadata": {
    "_cell_guid": "4a619c20-bf4d-4ab0-9d4c-a1848b8a868e",
    "_uuid": "c931eef7f92844a65362e62674bdff4e9f3e3b14"
   },
   "source": [
    "* https://www.kaggle.com/c/digit-recognizer"
   ]
  },
  {
   "cell_type": "code",
   "execution_count": 1,
   "metadata": {
    "_cell_guid": "6d53e666-9a0b-41df-8f7d-68fd3296171d",
    "_uuid": "6dd03a2be27f3a4b4338b0c5900529404f116478"
   },
   "outputs": [],
   "source": [
    "import pandas as pd\n",
    "import numpy as np\n",
    "from sklearn.model_selection import train_test_split\n",
    "import xgboost as xgb"
   ]
  },
  {
   "cell_type": "markdown",
   "metadata": {
    "_cell_guid": "80828c89-21fc-4d77-b096-3925f76d4678",
    "_uuid": "c13358ea7791c617993fe1a4a827687f7e81df4b"
   },
   "source": [
    "## Prepare Data"
   ]
  },
  {
   "cell_type": "code",
   "execution_count": 2,
   "metadata": {
    "_cell_guid": "8a81c666-beb5-48be-a54d-2686fb0aec70",
    "_uuid": "7557b3fd1229659a4a840daaa3804ee3ef0b4af5"
   },
   "outputs": [
    {
     "data": {
      "text/plain": [
       "((42000, 785), (28000, 784))"
      ]
     },
     "execution_count": 2,
     "metadata": {},
     "output_type": "execute_result"
    }
   ],
   "source": [
    "train = pd.read_csv('train.csv')\n",
    "test  = pd.read_csv('test.csv')\n",
    "train.shape, test.shape"
   ]
  },
  {
   "cell_type": "code",
   "execution_count": 3,
   "metadata": {
    "_cell_guid": "fa3176a4-25ea-4c61-b901-3332cf7ab5eb",
    "_uuid": "798c77385caacf9bbfdac4f354ba0cea7d79ba68"
   },
   "outputs": [
    {
     "data": {
      "text/plain": [
       "((42000, 784), (42000, 1), (28000, 784))"
      ]
     },
     "execution_count": 3,
     "metadata": {},
     "output_type": "execute_result"
    }
   ],
   "source": [
    "images = train.iloc[:,1:]\n",
    "labels = train.iloc[:,:1]\n",
    "images.shape, labels.shape, test.shape"
   ]
  },
  {
   "cell_type": "code",
   "execution_count": 4,
   "metadata": {
    "_cell_guid": "abfdd92a-d7ba-456c-9d9c-6404f214c21c",
    "_uuid": "ae4692174413dffc458733c3a0dadc50e7166373"
   },
   "outputs": [
    {
     "data": {
      "text/plain": [
       "((33600, 784), (8400, 784))"
      ]
     },
     "execution_count": 4,
     "metadata": {},
     "output_type": "execute_result"
    }
   ],
   "source": [
    "train_images, valid_images, train_labels, valid_labels = train_test_split(images, labels, train_size=0.8, test_size=0.2, random_state=0)\n",
    "train_images.shape, valid_images.shape"
   ]
  },
  {
   "cell_type": "markdown",
   "metadata": {
    "_cell_guid": "228fc916-1e5a-4a44-82dd-5911041494bc",
    "_uuid": "63482200d4edf2b147e1eff9b792adb7732a5254"
   },
   "source": [
    "## Build Model"
   ]
  },
  {
   "cell_type": "code",
   "execution_count": null,
   "metadata": {
    "_cell_guid": "b86b2189-f334-4963-8c77-df068d997b65",
    "_uuid": "a81678697d0c3acba3625fa4f200cd4c7e8dd7ab"
   },
   "outputs": [],
   "source": [
    "gbm = xgb.XGBClassifier()\n",
    "gbm.fit(train_images.values, train_labels.values.ravel())"
   ]
  },
  {
   "cell_type": "code",
   "execution_count": null,
   "metadata": {
    "_cell_guid": "84ef21ff-641e-496d-9070-72aed531d6a4",
    "_uuid": "14347a6738af3a7d33ee1ec829f864dfd06472d0"
   },
   "outputs": [],
   "source": [
    "gbm.score(valid_images.values, valid_labels.values)"
   ]
  },
  {
   "cell_type": "markdown",
   "metadata": {
    "_cell_guid": "91484a5b-6be5-425b-9a84-f4f176f0752d",
    "_uuid": "a0a27f88e4734cb4d0f7f6c6300dd07483d0949c"
   },
   "source": [
    "## Submit"
   ]
  },
  {
   "cell_type": "code",
   "execution_count": null,
   "metadata": {
    "_cell_guid": "cf192fed-6924-4dd1-b4cf-c5836ccaf5ef",
    "_uuid": "2777b18f39ccf8582055d1b871d4a34ab220b404"
   },
   "outputs": [],
   "source": [
    "predictions = gbm.predict(test.values)"
   ]
  },
  {
   "cell_type": "code",
   "execution_count": null,
   "metadata": {
    "_cell_guid": "ed354333-40c1-4e99-8f67-a070efe38a7d",
    "_uuid": "aab3b5d2e3115787efd35675229f599247eeb551"
   },
   "outputs": [],
   "source": [
    "submissions = pd.DataFrame({\n",
    "    \"ImageId\": list(range(1, len(predictions)+1)),\n",
    "    \"Label\": predictions})\n",
    "submissions.to_csv(\"output.csv\", index=False, header=True)"
   ]
  },
  {
   "cell_type": "code",
   "execution_count": null,
   "metadata": {
    "_cell_guid": "5343e9fe-5afb-49ae-a0d8-8d40f34fa483",
    "_uuid": "61b95d61321e9eb4c4809a86e61b99f55cfe4a73",
    "collapsed": true
   },
   "outputs": [],
   "source": []
  }
 ],
 "metadata": {
  "kernelspec": {
   "display_name": "Python 3",
   "language": "python",
   "name": "python3"
  },
  "language_info": {
   "codemirror_mode": {
    "name": "ipython",
    "version": 3
   },
   "file_extension": ".py",
   "mimetype": "text/x-python",
   "name": "python",
   "nbconvert_exporter": "python",
   "pygments_lexer": "ipython3",
   "version": "3.6.6"
  },
  "notify_time": "10",
  "toc": {
   "colors": {
    "hover_highlight": "#DAA520",
    "navigate_num": "#000000",
    "navigate_text": "#333333",
    "running_highlight": "#FF0000",
    "selected_highlight": "#FFD700",
    "sidebar_border": "#EEEEEE",
    "wrapper_background": "#FFFFFF"
   },
   "moveMenuLeft": true,
   "nav_menu": {
    "height": "30px",
    "width": "254px"
   },
   "navigate_menu": true,
   "number_sections": false,
   "sideBar": true,
   "threshold": 4,
   "toc_cell": false,
   "toc_section_display": "block",
   "toc_window_display": false,
   "widenNotebook": false
  }
 },
 "nbformat": 4,
 "nbformat_minor": 1
}
